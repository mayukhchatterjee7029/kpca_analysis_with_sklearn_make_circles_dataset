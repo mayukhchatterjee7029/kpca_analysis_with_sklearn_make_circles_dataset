{
  "nbformat": 4,
  "nbformat_minor": 0,
  "metadata": {
    "colab": {
      "provenance": []
    },
    "kernelspec": {
      "name": "python3",
      "display_name": "Python 3"
    },
    "language_info": {
      "name": "python"
    }
  },
  "cells": [
    {
      "cell_type": "markdown",
      "source": [
        "# Kernel-PCA in Machine Learning\n",
        "\n",
        "This notebook covers the implementation of polynomial and Gaussian (RBF) kernel matrices, along with projections, centering, and Frobenius norm calculations. It's a part of an IIT-M assignment.\n",
        "\n",
        "\n",
        "**Note to Learners**:\n",
        "\n",
        "- random_state = 0 (seed)\n",
        "- For numerical questions, there are two parts. The first part expects you to compute some quantity, say a parameter of a machine learning model. The second part will require you to convert this quantity (if it is not a scalar) into a scalar so that it can be entered as the answer on the portal to the corresponding NAT question.\n"
      ],
      "metadata": {
        "id": "1TBHlt7hAdN1"
      }
    },
    {
      "cell_type": "markdown",
      "source": [
        "## Imports"
      ],
      "metadata": {
        "id": "3aQgpIgLD1KC"
      }
    },
    {
      "cell_type": "code",
      "execution_count": 348,
      "metadata": {
        "id": "q_ck4etoQn3-"
      },
      "outputs": [],
      "source": [
        "import numpy as np\n",
        "import matplotlib.pyplot as plt"
      ]
    },
    {
      "cell_type": "markdown",
      "source": [
        "## Dataset\n",
        "\n",
        "Run the cell given below to generate the data-matrix $\\mathbf{X}$, which is of shape $(n, d)$, where $n$ denotes the number of samples and $d$ denotes the number of features. Ignore the vector $y$. You will be using this dataset for the rest of the assignment. Do not edit this cell."
      ],
      "metadata": {
        "id": "lqXdDNyBh5Ui"
      }
    },
    {
      "cell_type": "code",
      "source": [
        "from sklearn.datasets import make_circles\n",
        "\n",
        "X, y = make_circles(n_samples=1000, factor=0.9, noise=0.2, random_state=0)"
      ],
      "metadata": {
        "id": "CAbrCY_dRRxP"
      },
      "execution_count": 349,
      "outputs": []
    },
    {
      "cell_type": "markdown",
      "source": [
        "## Problem 1\n",
        "Plot the dataset using matplotlib."
      ],
      "metadata": {
        "id": "mvplHWyjiUbW"
      }
    },
    {
      "cell_type": "code",
      "source": [
        "# Enter your solution here\n",
        "plt.plot(X[1])\n",
        "plt.show()\n",
        "plt.clf()"
      ],
      "metadata": {
        "id": "WsId_TzBRmCR",
        "colab": {
          "base_uri": "https://localhost:8080/",
          "height": 448
        },
        "outputId": "0b0faece-bd54-40d1-d1e8-ed37e639ac43"
      },
      "execution_count": 350,
      "outputs": [
        {
          "output_type": "display_data",
          "data": {
            "text/plain": [
              "<Figure size 640x480 with 1 Axes>"
            ],
            "image/png": "[encoded data removed]"
          },
          "metadata": {}
        },
        {
          "output_type": "display_data",
          "data": {
            "text/plain": [
              "<Figure size 640x480 with 0 Axes>"
            ]
          },
          "metadata": {}
        }
      ]
    },
    {
      "cell_type": "markdown",
      "source": [
        "## Problem 2\n",
        "How many samples are there in the dataset?\n"
      ],
      "metadata": {
        "id": "HmOUoVes-wp8"
      }
    },
    {
      "cell_type": "code",
      "source": [
        "# Enter your solution here\n",
        "n = np.shape(X)[0] # np.shape would return (1000, 2) == (n, d)\n",
        "n\n",
        "print(f\"#samples = {n}\")"
      ],
      "metadata": {
        "id": "UcR4nDys-5Tt",
        "colab": {
          "base_uri": "https://localhost:8080/"
        },
        "outputId": "42c21398-bd9e-4578-8061-aa5f1ad54dcc"
      },
      "execution_count": 351,
      "outputs": [
        {
          "output_type": "stream",
          "name": "stdout",
          "text": [
            "#samples = 1000\n"
          ]
        }
      ]
    },
    {
      "cell_type": "markdown",
      "source": [
        "## Problem 3\n",
        "How many features are there in the dataset?"
      ],
      "metadata": {
        "id": "aZfEFUur_dqG"
      }
    },
    {
      "cell_type": "code",
      "source": [
        "# Enter your solution here\n",
        "d = np.ndim(X)\n",
        "# d = X.shape[1]\n",
        "print(f\"#features = {d} | dimension = {d}d\")"
      ],
      "metadata": {
        "id": "UggWLA-p_lg7",
        "colab": {
          "base_uri": "https://localhost:8080/"
        },
        "outputId": "6d93178a-64f2-4e5b-d910-88f3a89082b0"
      },
      "execution_count": 352,
      "outputs": [
        {
          "output_type": "stream",
          "name": "stdout",
          "text": [
            "#features = 2 | dimension = 2d\n"
          ]
        }
      ]
    },
    {
      "cell_type": "markdown",
      "source": [
        "## Problem 4\n",
        "Find the kernel matrix $K$ using the polynomial kernel with degree $2$.\n",
        "\n",
        "<u>Conversion</u>\n",
        "\n",
        "Enter the following quantity as your answer correct to two decimal places:\n",
        "\n",
        "$$\n",
        "\\cfrac{1}{n} \\sqrt{\\sum \\limits_{i = 1}^{n} \\sum \\limits_{j = 1}^{n} (K_{ij})^2}\n",
        "$$"
      ],
      "metadata": {
        "id": "gasf65KuidsK"
      }
    },
    {
      "cell_type": "code",
      "source": [
        "# first lets calculate the kernel matrix\n",
        "\n",
        "# the polynomial kernel in degree 2 is: K(x, x') = (x @ x' + c)^2\n",
        "\n",
        "G = (X @ X.T + 1) # calculate the gram matrix\n",
        "K = G ** 2 # apply the polynomial kernel: K = (G)^2 ; with c = 1\n",
        "\n",
        "K.shape # Kernel matrix is (n x n), output: (1000, 1000)\n",
        "\n",
        "# K[0,1] # kernel of x_0 with x_1"
      ],
      "metadata": {
        "id": "FgXEvNlWS8yM",
        "colab": {
          "base_uri": "https://localhost:8080/"
        },
        "outputId": "16f31c6b-976f-4035-a4e1-6dbda382da68"
      },
      "execution_count": 353,
      "outputs": [
        {
          "output_type": "execute_result",
          "data": {
            "text/plain": [
              "(1000, 1000)"
            ]
          },
          "metadata": {},
          "execution_count": 353
        }
      ]
    },
    {
      "cell_type": "code",
      "source": [
        "# Enter your solution here\n",
        "\n",
        "f_norm = np.sqrt(np.sum(K**2)) # get the Frobenius norm of the kernel matrix\n",
        "# f_norm\n",
        "conversion_prob_4 = f_norm/n\n",
        "\n",
        "print(f'answer of the problem-4 with two decimal places is = {conversion_prob_4:.2f}\\n') # answer with 2 decimal places\n",
        "conversion_prob_4 # here is the real one :)"
      ],
      "metadata": {
        "colab": {
          "base_uri": "https://localhost:8080/"
        },
        "id": "yG1Pu3ucX9qe",
        "outputId": "2a06b4a6-93ac-46da-97b1-c682da3f31c9"
      },
      "execution_count": 354,
      "outputs": [
        {
          "output_type": "stream",
          "name": "stdout",
          "text": [
            "answer of the problem-4 with two decimal places is = 2.10\n",
            "\n"
          ]
        },
        {
          "output_type": "execute_result",
          "data": {
            "text/plain": [
              "np.float64(2.096195646589988)"
            ]
          },
          "metadata": {},
          "execution_count": 354
        }
      ]
    },
    {
      "cell_type": "markdown",
      "source": [
        "## Problem 5\n",
        "Find the kernel matrix $K$ using the Gaussian kernel with parameter $\\sigma = 2$.\n",
        "\n",
        "<u>Formula</u> for the classic Gaussian (RBF) kernel:\n",
        "\n",
        "$$\n",
        "K_{ij} = \\exp\\left(-\\frac{\\|x_i - x_j\\|^2}{2\\sigma^2}\\right) \\quad \\text{with } \\sigma=2\n",
        "$$\n",
        "\n",
        "<u>Conversion</u>\n",
        "\n",
        "Enter the following quantity as your answer correct to two decimal places:\n",
        "\n",
        "\n",
        "$$\n",
        "\\cfrac{1}{n} \\sqrt{\\sum \\limits_{i = 1}^{n} \\sum \\limits_{j = 1}^{n} (K_{ij})^2}\n",
        "$$"
      ],
      "metadata": {
        "id": "klNZ9eQTlIFO"
      }
    },
    {
      "cell_type": "code",
      "source": [
        "# Enter your solution here\n",
        "\n",
        "sigma = 2 ## σ=2\n",
        "\n",
        "# compute squared Euclidean distances\n",
        "X_sq_raw = np.sum(X**2, axis=1) # this gives an 1d array (1000,); need to reshape it in 2d as (1000,1)\n",
        "\n",
        "X_square = X_sq_raw.reshape(-1,1) # -1 act as: do whatever it takes to reshape it w/ 1 column :) and set how much row is required\n",
        "## X_square\n",
        "\n",
        "# this childhood formula seems gold :) => ||x_i - x_j||^2 = ||x_i||^2 + ||x_j||^2 - 2x_i.T @ x_j\n",
        "\n",
        "sq_dists = X_square + X_square.T - 2 * (X @ X.T)  # we used this childhood formula here\n",
        "\n",
        "K_rbf = np.exp(-sq_dists / (2*(sigma**2)) )\n",
        "\n",
        "conversion_prob_5 = np.sqrt(np.sum(K_rbf ** 2))/n\n",
        "\n",
        "print(f'answer of the problem-5 with two decimal places is = {conversion_prob_5:.2f}\\n') # answer with 2 decimal places\n",
        "conversion_prob_5 # here is the real one :)\n"
      ],
      "metadata": {
        "id": "Z-sZEL_wjobv",
        "colab": {
          "base_uri": "https://localhost:8080/"
        },
        "outputId": "18acf247-6201-45c9-c920-13541b6abe9f"
      },
      "execution_count": 355,
      "outputs": [
        {
          "output_type": "stream",
          "name": "stdout",
          "text": [
            "answer of the problem-5 with two decimal places is = 0.81\n",
            "\n"
          ]
        },
        {
          "output_type": "execute_result",
          "data": {
            "text/plain": [
              "np.float64(0.8079400085320029)"
            ]
          },
          "metadata": {},
          "execution_count": 355
        }
      ]
    },
    {
      "cell_type": "markdown",
      "source": [
        "## Problem 6\n",
        "Find the center of the kernel matrix $K$ obtained in problem 2. Call this centered matrix $KC$.\n",
        "\n",
        "<u>Conversion</u>\n",
        "\n",
        "Enter the following quantity as your answer correct to two decimal places:\n",
        "\n",
        "$$\n",
        "\\cfrac{1}{n} \\sqrt{\\sum \\limits_{i = 1}^{n} \\sum \\limits_{j = 1}^{n} KC_{ij}^2}\n",
        "$$"
      ],
      "metadata": {
        "id": "OGvN9q6uphxv"
      }
    },
    {
      "cell_type": "code",
      "source": [
        "# Enter your solution here\n",
        "\n",
        "K_mean = np.mean(K) # get the mean of our polynomial kernel matrix [degree 2]\n",
        "K_centered = K - K_mean # the centered kernel matrix\n",
        "\n",
        "f_norm_centered = np.sqrt(np.sum(K_centered**2)) # get the Frobenius norm of the centered kernel matrix\n",
        "\n",
        "conversion_prob_6 = f_norm_centered/n\n",
        "\n",
        "print(f'answer of the problem-6 with two decimal places is = {conversion_prob_6:.2f}\\n') # answer with 2 decimal hood\n",
        "conversion_prob_6 # here is the real one :)"
      ],
      "metadata": {
        "id": "ol4jeOpZTVc9",
        "colab": {
          "base_uri": "https://localhost:8080/"
        },
        "outputId": "e44ed8ca-b756-46c7-aa7c-94def3d159ec"
      },
      "execution_count": 356,
      "outputs": [
        {
          "output_type": "stream",
          "name": "stdout",
          "text": [
            "answer of the problem-6 with two decimal places is = 1.48\n",
            "\n"
          ]
        },
        {
          "output_type": "execute_result",
          "data": {
            "text/plain": [
              "np.float64(1.4800682012409276)"
            ]
          },
          "metadata": {},
          "execution_count": 356
        }
      ]
    },
    {
      "cell_type": "markdown",
      "source": [
        "## Problem 7\n",
        "Find the projections (scalar) of all the data points on to the first two principal components obtained using polynomial kernel of degree 2.\n",
        "\n",
        "<u>Conversion</u>\n",
        "\n",
        "if $\\alpha_1, \\alpha_2, ..., \\alpha_n$ are the projections on the first PC and $\\beta_1, \\beta_2, ..., \\beta_n$ are the projections on the second PC, enter the following quantity as your answer correct to two decimal places:\n",
        "\n",
        "$$\n",
        "\\cfrac{1}{n} \\sum_{i = 1}^{n} |\\alpha_i| + \\cfrac{1}{n} \\sum_{i = 1}^{n} |\\beta_i|\n",
        "$$"
      ],
      "metadata": {
        "id": "ewkUhHHTsEQo"
      }
    },
    {
      "cell_type": "code",
      "source": [
        "# Enter your solution here\n",
        "\n",
        "## K_centered # we have our precalculated centered kernel matrix\n",
        "\n",
        "k_centered_covariance = np.cov(K_centered) # here we get the covariance of the centered Kernel matrix\n",
        "## k_centered_covariance\n",
        "\n",
        "eigenvals, eigenvecs = np.linalg.eigh(k_centered_covariance)\n",
        "\n",
        "sorted_indices = np.argsort(eigenvals)[::-1] # sorts all the eigenvalues in desc ## used [::-1] to make it desc\n",
        "\n",
        "eigenvalues_sorted = eigenvals[sorted_indices] # got all the eigenvalues sorted in decreasing order\n",
        "\n",
        "w1 = eigenvecs[:,sorted_indices[0]] # presenting the 1st principle component\n",
        "w2 = eigenvecs[:,sorted_indices[1]] # the 2nd principle component\n",
        "\n",
        "\n"
      ],
      "metadata": {
        "id": "UvjNO9wWZ4WG"
      },
      "execution_count": 357,
      "outputs": []
    },
    {
      "cell_type": "markdown",
      "source": [
        "<u>Conversion</u>\n",
        "\n",
        "if $\\alpha_1, \\alpha_2, ..., \\alpha_n$ are the projections on the first PC and $\\beta_1, \\beta_2, ..., \\beta_n$ are the projections on the second PC, enter the following quantity as your answer correct to two decimal places:\n",
        "\n",
        "$$\n",
        "\\cfrac{1}{n} \\sum_{i = 1}^{n} |\\alpha_i| + \\cfrac{1}{n} \\sum_{i = 1}^{n} |\\beta_i|\n",
        "$$"
      ],
      "metadata": {
        "id": "GhGRwx52w8Gs"
      }
    },
    {
      "cell_type": "code",
      "source": [
        "# here lets compute the answer of the problem 7\n",
        "\n",
        "# proj_w1_KC = w1 @ (K_centered @ w1)\n",
        "# proj_w2_KC = w2 @ (K_centered @ w2)\n",
        "\n",
        "proj_w1_KC = w1 @ (w1.T @ K_centered)\n",
        "proj_w2_KC = w2 @ (w2.T @ K_centered)\n",
        "\n",
        "conversion_prob_7 = np.sum(np.abs(proj_w1_KC))/n + np.sum(np.abs(proj_w2_KC))/n\n",
        "# conversion_prob_7 = np.sum(proj_w1_KC)/n + np.sum(proj_w2_KC)/n\n",
        "\n",
        "\n",
        "conversion_prob_7\n",
        "# K_centered.shape[0]\n",
        "\n",
        "print(f'answer of the problem-7 with two decimal places is = {conversion_prob_7:.2f}\\n') # answer with 2 decimal hood\n",
        "conversion_prob_7 # here is the real one :)"
      ],
      "metadata": {
        "id": "WIwovGgAcgWY",
        "colab": {
          "base_uri": "https://localhost:8080/"
        },
        "outputId": "d2a6e79d-b863-4718-e1ad-e64908925d6f"
      },
      "execution_count": 360,
      "outputs": [
        {
          "output_type": "stream",
          "name": "stdout",
          "text": [
            "answer of the problem-7 with two decimal places is = 1.97\n",
            "\n"
          ]
        },
        {
          "output_type": "execute_result",
          "data": {
            "text/plain": [
              "np.float64(1.9687309347376103)"
            ]
          },
          "metadata": {},
          "execution_count": 360
        }
      ]
    },
    {
      "cell_type": "code",
      "source": [],
      "metadata": {
        "id": "8Jv4TC8C6jRM"
      },
      "execution_count": 358,
      "outputs": []
    }
  ]
}